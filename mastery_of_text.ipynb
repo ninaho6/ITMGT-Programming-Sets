{
 "cells": [
  {
   "cell_type": "code",
   "execution_count": 1,
   "id": "d342e359-c9f2-47f2-b1d4-15a6ed146737",
   "metadata": {},
   "outputs": [],
   "source": [
    "#Text in URL to python variable 'pg10'\n",
    "\n",
    "import urllib.request\n",
    "\n",
    "with urllib.request.urlopen(\"https://www.gutenberg.org/cache/epub/10/pg10.txt\") as response:\n",
    "    pg10=response.read().decode('utf-8')"
   ]
  },
  {
   "cell_type": "code",
   "execution_count": 2,
   "id": "bc6137fd-8c6c-4471-a9ba-4694f7a668ae",
   "metadata": {},
   "outputs": [
    {
     "name": "stdout",
     "output_type": "stream",
     "text": [
      "Number of lines: 99968\n"
     ]
    }
   ],
   "source": [
    "#Number of lines \n",
    "\n",
    "line_count = len(pg10.splitlines())\n",
    "print(f\"Number of lines: {line_count}\")"
   ]
  },
  {
   "cell_type": "code",
   "execution_count": 3,
   "id": "792f5c9f-c972-4222-b3ba-4aba051e9fe1",
   "metadata": {},
   "outputs": [
    {
     "name": "stdout",
     "output_type": "stream",
     "text": [
      "Number of Words: 795227\n"
     ]
    }
   ],
   "source": [
    "#Number of Words\n",
    "    \n",
    "list_of_words = []\n",
    "word = []\n",
    "\n",
    "#Identify if character is a letter \n",
    "def is_letter(i):\n",
    "    return i.isalpha()\n",
    "\n",
    "#If character is a letter, add it to word, if not, add it to list_of_words\n",
    "for i in pg10: \n",
    "    if is_letter(i): \n",
    "        word.append(i) \n",
    "    elif word: \n",
    "        list_of_words.append(''.join(word))\n",
    "        word = []\n",
    "\n",
    "word_count = len(list_of_words)\n",
    "print(f\"Number of Words: {word_count}\")"
   ]
  },
  {
   "cell_type": "code",
   "execution_count": 4,
   "id": "dde94657-2a33-47dd-a567-d0d72014c463",
   "metadata": {},
   "outputs": [
    {
     "name": "stdout",
     "output_type": "stream",
     "text": [
      "Number of 'apostle': 47\n"
     ]
    }
   ],
   "source": [
    "# Number of 'apostle'\n",
    "\n",
    "lowercase_list_of_words = [word.lower() for word in list_of_words]\n",
    "apostle_count = 0\n",
    "\n",
    "for word in lowercase_list_of_words: \n",
    "    if word == 'apostle':\n",
    "        apostle_count += 1\n",
    "\n",
    "print(f\"Number of 'apostle': {apostle_count}\")"
   ]
  },
  {
   "cell_type": "code",
   "execution_count": 7,
   "id": "db7d21c6-d381-40ab-84ec-99e26e640948",
   "metadata": {},
   "outputs": [
    {
     "name": "stdout",
     "output_type": "stream",
     "text": [
      "Most common word: the\n"
     ]
    }
   ],
   "source": [
    "# Most common word \n",
    "\n",
    "def most_frequent(list_of_words):\n",
    "    return max(set(list_of_words), key = list_of_words.count)\n",
    " \n",
    "print(f\"Most common word: {most_frequent(list_of_words)}\")"
   ]
  },
  {
   "cell_type": "code",
   "execution_count": null,
   "id": "32801f8b-bc60-4a56-9f8b-f41a7e396aeb",
   "metadata": {},
   "outputs": [],
   "source": []
  }
 ],
 "metadata": {
  "kernelspec": {
   "display_name": "Python 3 (ipykernel)",
   "language": "python",
   "name": "python3"
  },
  "language_info": {
   "codemirror_mode": {
    "name": "ipython",
    "version": 3
   },
   "file_extension": ".py",
   "mimetype": "text/x-python",
   "name": "python",
   "nbconvert_exporter": "python",
   "pygments_lexer": "ipython3",
   "version": "3.12.4"
  }
 },
 "nbformat": 4,
 "nbformat_minor": 5
}
